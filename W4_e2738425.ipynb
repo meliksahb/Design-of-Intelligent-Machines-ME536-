{
 "cells": [
  {
   "cell_type": "markdown",
   "metadata": {
    "id": "a-kSunCl52KE"
   },
   "source": [
    "\n",
    "Please __read the document carefuly__ and submit your code accordingly.  \n",
    "\n",
    "Once you fill in the functions as explained below, disconnect runtime, reconnect and run all (i.e. ```Runtime -> Run all```) in order to double check that it still works. Delete any test code you have so that I do just see the functions below, I will write my own test code, clear all outuput (i.e. ```Edit -> Clear all outputs```), finally save this file as \"**W4_studentID.ipynb**\" and submit via [ODTU class](https://odtuclass2024f.metu.edu.tr/mod/assign/view.php?id=68205).  \n",
    "\n",
    "Use of AI tools (such as the built-in Gemini in colab, or anyother you like) is allowed. However, if you use an AI tool, add the prompt(s) you used as a comment to the beginning of each code cell.  \n",
    "Along with the comment, explain if the first prompt worked, if not explain how you fixed it, add all versions of your prompts in to your comments.\n",
    "\n",
    "\n",
    "Allowed imports:  \n",
    "- ```numpy```.  \n",
    "\n",
    "Any submission:  \n",
    "- with test code,  \n",
    "- that crashes,  \n",
    "- any other import than mentioned above\n",
    "- not properly named\n",
    "\n",
    "will not be graded.\n"
   ]
  },
  {
   "cell_type": "markdown",
   "metadata": {
    "id": "rQU-zxlM6InS"
   },
   "source": [
    "\n",
    "## Full name: Melikşah Beşir"
   ]
  },
  {
   "cell_type": "markdown",
   "metadata": {
    "id": "E51QAfTq6MaL"
   },
   "source": [
    "## Student ID: e2738425"
   ]
  },
  {
   "cell_type": "markdown",
   "metadata": {
    "id": "wPqv-Y_K6Zrw"
   },
   "source": [
    "## Definition:\n",
    "You are to complete following functions. Details are explained in the docstring of each funciton.  \n",
    "\n",
    "In the text cell before each function, in brief but sufficient detail, explain how the function calculates the desired outputs.\n",
    "\n",
    "Note that these functions complement each other, you can test one with the other if they are properly written.  \n",
    "\n",
    "Also note that, there is no limit for the dimension of ambient space.  \n",
    "\n",
    "For the time being, there is no noise in data, i.e. rank from a particular subspace directly indicate the dimension of that subspace.  \n"
   ]
  },
  {
   "cell_type": "markdown",
   "metadata": {
    "id": "2snCm3LUANqs"
   },
   "source": [
    "### Generation of subspaces with desired guaranteed minimal or maximal angles\n",
    "\n",
    "Replace the content of this cell where you briefly but sufficiently explain how you make sure that your code works using mathematical terms as much as possible.  \n",
    "\n",
    "Note that you can write math type expression between $ $.  Recall numpy tutorial on ODTU Class.  \n",
    "\n",
    "Anyway here are some examples just in case:  \n",
    "$e = Mc^2$   \n",
    "\n",
    "$\\int sin(t) dt = -cos(t)$   \n",
    "\n",
    "$\\begin{bmatrix} 1 & 3 \\\\ 2 & 4 \\end{bmatrix} \\mathbf{x} = \\begin{bmatrix} 4 \\\\ 6 \\end{bmatrix}$\n",
    "\n",
    "$\\tilde{x} = 0.999 x$"
   ]
  },
  {
   "cell_type": "code",
   "execution_count": 1,
   "metadata": {
    "id": "CuVaBCEl6YJD"
   },
   "outputs": [],
   "source": [
    "import numpy as np\n",
    "def GenerateSubspacesMin(D = 5, dS1 = 2, dS2 = 2, nS1 = 50, nS2 = 50, minimalAngle = 0 ):\n",
    "    '''\n",
    "    This function generates 2 data matrices in subspaces S1 and S2 recpectively that live in D dimensional ambient space\n",
    "    dSi is the dimension of subspace Si\n",
    "    nSi is the number of data points to be generated in subspace Si\n",
    "    minimalAngle is the minimal angle between subspaces, recall the definition in lecture notes\n",
    "    Function returns two numpy arrays: M1, M2\n",
    "    where:\n",
    "        dimension of matrix Mi is (D, nSi)\n",
    "        rank(Mi) = dSi\n",
    "\n",
    "    if passed data does not make sense, return two empty numpy arrays\n",
    "    '''\n",
    "    # I copy-paste docstring and write \"can you explain step by step what I should do for this task\"\n",
    "    # to chatgpt. Then I tried to write code with the help of documentation and stack overflow.\n",
    "    # I also used ChatGPT for generating explainings of my code. I wrote ChatGPT\n",
    "    # \"Can you prepare me README file with mathematical expression for this code [copy paste code]\"\n",
    "    # Check if the input parameters make sense\n",
    "    if not (0 < dS1 <= D and 0 < dS2 <= D and dS1 + dS2 <= D):\n",
    "        return np.array([]), np.array([])\n",
    "\n",
    "    # Generate orthonormal bases for subspaces S1 and S2 using QR decomposition\n",
    "    # I find it in stack overflow https://stackoverflow.com/questions/74401008/qr-decomposition\n",
    "    U1, _ = np.linalg.qr(np.random.randn(D, dS1))\n",
    "    U2, _ = np.linalg.qr(np.random.randn(D, dS2))\n",
    "\n",
    "    # Compute the cosine of the principal angles between subspaces using matrix norms\n",
    "    product_matrix = U1.T @ U2\n",
    "    singular_values = np.linalg.norm(product_matrix, axis=0)  # Norm to approximate singular values\n",
    "    # Ref: https://numpy.org/doc/stable/reference/generated/numpy.linalg.norm.html\n",
    "    # Calculate minimal angle\n",
    "    min_cosine = singular_values.min()\n",
    "    min_cosine = np.clip(min_cosine, -1.0, 1.0)\n",
    "    min_angle = np.degrees(np.arccos(min_cosine))\n",
    "\n",
    "    # Check if the minimal angle condition is satisfied\n",
    "    if min_angle < minimalAngle:\n",
    "        return np.array([]), np.array([])\n",
    "\n",
    "    # Generate data points within the subspaces\n",
    "    # I copy my code and ask chatGPT how to generate data points within the subspaces\n",
    "    # I know its is the easier part of the assignment but I think I'm little confused\n",
    "    # When chatGPT created code I was like \"What? That's it?!\"\n",
    "    M1 = U1 @ np.random.randn(dS1, nS1)\n",
    "    M2 = U2 @ np.random.randn(dS2, nS2)\n",
    "    \n",
    "    return M1, M2"
   ]
  },
  {
   "cell_type": "markdown",
   "metadata": {
    "id": "U1gHiQSgzIV5"
   },
   "source": [
    "Given D (ambient space dimension), dS1 (dimension of subspace S1), and dS2 (dimension of subspace S2), we generate orthonormal bases U1 and U2 for the subspaces:\n",
    "\n",
    "Orthonormal basis U for a subspace S is obtained using QR decomposition:\n",
    "  \n",
    "  U1, R1 = QR(randn(D, dS1))\n",
    "  \n",
    "  U2, R2 = QR(randn(D, dS2))\n",
    "  \n",
    "  where randn(D, dSi) generates a random D × dSi matrix.\n",
    "\n",
    "To compute the principal angles between subspaces S1 and S2, we first form the matrix product:\n",
    "  \n",
    "  M = U1^T ⋅ U2\n",
    "\n",
    "The singular values σ_i of matrix M relate to the cosines of the principal angles θ_i between the subspaces:\n",
    "  \n",
    "  σ_i = cos(θ_i)\n",
    "\n",
    "The minimal principal angle θ_min is given by:\n",
    "  \n",
    "  θ_min = arccos(min(σ_i))\n",
    "\n",
    "In the code, the singular values are approximated using the matrix norms:\n",
    " \n",
    "  σ_min ≈ min(‖M_{:, j}‖), for each column j of M\n",
    "\n",
    "We check if θ_min satisfies the specified minimal angle condition:\n",
    " \n",
    "  θ_min ≥ minimalAngle\n",
    "\n",
    "If this condition is not met, the function returns empty arrays.\n",
    "\n",
    "If the minimal angle condition is satisfied, we generate data points within subspaces S1 and S2:\n",
    "  \n",
    "  M1 = U1 ⋅ randn(dS1, nS1)\n",
    "  \n",
    "  M2 = U2 ⋅ randn(dS2, nS2)\n",
    "  \n",
    "  where randn(dSi, nSi) generates random data points in the subspace defined by U1 or U2.\n"
   ]
  },
  {
   "cell_type": "markdown",
   "metadata": {
    "id": "OJ-KlPmHD_0K"
   },
   "source": [
    "### Finding minimal and maximal angles between subspaces  \n",
    "Similar to the case above, replace the content of this cell to explain briefly but sufficiently how you make sure that your code works using mathematical terms as much as possible.  \n"
   ]
  },
  {
   "cell_type": "code",
   "execution_count": 2,
   "metadata": {
    "id": "Fd4PHzDtE5sh"
   },
   "outputs": [],
   "source": [
    "\n",
    "def FindMinimalAngles(M1, M2):\n",
    "    '''\n",
    "    This function calculates and returns the minimal angle between subspaces S1, and S2\n",
    "    that contain the data points M1 and M2 respcetively.\n",
    "    Check out the lecture notes for the definition of minimal angle\n",
    "    Note that, subspaces are not be passed, indeed, 2 data matrices are given to this function\n",
    "    If you have properly have written the previous function, you will be able to\n",
    "    use it to test this function.\n",
    "    if passed data does not make sense, return -1000\n",
    "    '''\n",
    "    # I copy-paste docstring and write \"can you explain step by step what I should do for this task\"\n",
    "    # to chatgpt. Then I tried to write code with the help of documentation and stack overflow\n",
    "    # Validate the input matrices\n",
    "    if M1.size == 0 or M2.size == 0 or M1.shape[0] != M2.shape[0]:\n",
    "        return -1000\n",
    "\n",
    "    # Perform QR decomposition to find orthonormal bases for the column spaces of M1 and M2\n",
    "    # I find it in stack overflow https://stackoverflow.com/questions/74401008/qr-decomposition\n",
    "    U1, _ = np.linalg.qr(M1)\n",
    "    U2, _ = np.linalg.qr(M2)\n",
    "\n",
    "    # Compute the product matrix of the transposed basis of U1 and U2\n",
    "    product_matrix = U1.T @ U2\n",
    "\n",
    "    # Compute the minimal cosine value (corresponding to the maximal principal angle)\n",
    "    # Ref: https://numpy.org/doc/stable/reference/generated/numpy.linalg.norm.html\n",
    "    cos_values = np.linalg.norm(product_matrix, axis=0)  # Norm of columns to approximate singular values\n",
    "    min_cosine = np.clip(cos_values.min(), -1.0, 1.0)\n",
    "\n",
    "    # Find the minimal angle in degrees\n",
    "    minimalAngle = np.degrees(np.arccos(min_cosine))\n",
    "\n",
    "    return minimalAngle\n"
   ]
  },
  {
   "cell_type": "markdown",
   "metadata": {
    "id": "ha8yHjaw1pY5"
   },
   "source": [
    "The function first checks if the input matrices M1 and M2 are valid and have compatible dimensions:\n",
    "\n",
    "If M1 or M2 is empty or if their row counts do not match (i.e., they must live in the same D-dimensional ambient space), the function returns -1000.\n",
    "\n",
    "To find orthonormal bases for the column spaces of M1 and M2, QR decomposition is used:\n",
    "\n",
    "Let U1 be the orthonormal basis for the subspace spanned by M1:\n",
    "  \n",
    "  U1, R1 = QR(M1)\n",
    "\n",
    "Let U2 be the orthonormal basis for the subspace spanned by M2:\n",
    "  \n",
    "  U2, R2 = QR(M2)\n",
    "\n",
    "The product of the transposed basis of U1 and U2 is computed to evaluate the principal angles between subspaces:\n",
    "  \n",
    "  M_product = U1^T ⋅ U2\n",
    "\n",
    "The minimal cosine value (corresponding to the maximal principal angle) is calculated by finding the minimum column norm of M_product:\n",
    "  \n",
    "  σ_min ≈ min(‖M_product_{:, j}‖), for each column j of M_product\n",
    "\n",
    "The minimal cosine value is clipped between -1.0 and 1.0 to ensure it remains within valid bounds.\n",
    "\n",
    "The minimal angle in degrees is computed using the arccosine of the minimal cosine value:\n",
    "\n",
    "  θ_min = degrees(arccos(σ_min))\n",
    "\n",
    "This represents the smallest principal angle between the two subspaces.\n",
    "\n",
    "\n",
    "\n",
    "\n"
   ]
  },
  {
   "cell_type": "code",
   "execution_count": null,
   "metadata": {
    "id": "pDkcDoykKZnt"
   },
   "outputs": [],
   "source": []
  }
 ],
 "metadata": {
  "colab": {
   "provenance": []
  },
  "kernelspec": {
   "display_name": "Python 3",
   "name": "python3"
  },
  "language_info": {
   "codemirror_mode": {
    "name": "ipython",
    "version": 3
   },
   "file_extension": ".py",
   "mimetype": "text/x-python",
   "name": "python",
   "nbconvert_exporter": "python",
   "pygments_lexer": "ipython3",
   "version": "3.8.10"
  }
 },
 "nbformat": 4,
 "nbformat_minor": 0
}
