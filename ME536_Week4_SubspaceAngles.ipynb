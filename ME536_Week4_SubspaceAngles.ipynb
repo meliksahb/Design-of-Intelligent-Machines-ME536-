{
  "nbformat": 4,
  "nbformat_minor": 0,
  "metadata": {
    "colab": {
      "provenance": [],
      "include_colab_link": true
    },
    "kernelspec": {
      "name": "python3",
      "display_name": "Python 3"
    },
    "language_info": {
      "name": "python"
    }
  },
  "cells": [
    {
      "cell_type": "markdown",
      "metadata": {
        "id": "view-in-github",
        "colab_type": "text"
      },
      "source": [
        "<a href=\"https://colab.research.google.com/github/meliksahb/Design-of-Intelligent-Machines-ME536-/blob/main/ME536_Week4_SubspaceAngles.ipynb\" target=\"_parent\"><img src=\"https://colab.research.google.com/assets/colab-badge.svg\" alt=\"Open In Colab\"/></a>"
      ]
    },
    {
      "cell_type": "markdown",
      "source": [
        "\n",
        "Please __read the document carefuly__ and submit your code accordingly.  \n",
        "\n",
        "Once you fill in the functions as explained below, disconnect runtime, reconnect and run all (i.e. ```Runtime -> Run all```) in order to double check that it still works. Delete any test code you have so that I do just see the functions below, I will write my own test code, clear all outuput (i.e. ```Edit -> Clear all outputs```), finally save this file as \"**W4_studentID.ipynb**\" and submit via [ODTU class](https://odtuclass2024f.metu.edu.tr/mod/assign/view.php?id=68205).  \n",
        "\n",
        "Use of AI tools (such as the built-in Gemini in colab, or anyother you like) is allowed. However, if you use an AI tool, add the prompt(s) you used as a comment to the beginning of each code cell.  \n",
        "Along with the comment, explain if the first prompt worked, if not explain how you fixed it, add all versions of your prompts in to your comments.\n",
        "\n",
        "\n",
        "Allowed imports:  \n",
        "- ```numpy```.  \n",
        "\n",
        "Any submission:  \n",
        "- with test code,  \n",
        "- that crashes,  \n",
        "- any other import than mentioned above\n",
        "- not properly named\n",
        "\n",
        "will not be graded.\n"
      ],
      "metadata": {
        "id": "a-kSunCl52KE"
      }
    },
    {
      "cell_type": "markdown",
      "source": [
        "## Full name:"
      ],
      "metadata": {
        "id": "rQU-zxlM6InS"
      }
    },
    {
      "cell_type": "markdown",
      "source": [
        "## Student ID"
      ],
      "metadata": {
        "id": "E51QAfTq6MaL"
      }
    },
    {
      "cell_type": "markdown",
      "source": [
        "## Definition:\n",
        "You are to complete following functions. Details are explained in the docstring of each funciton.  \n",
        "\n",
        "In the text cell before each function, in brief but sufficient detail, explain how the function calculates the desired outputs.\n",
        "\n",
        "Note that these functions complement each other, you can test one with the other if they are properly written.  \n",
        "\n",
        "Also note that, there is no limit for the dimension of ambient space.  \n",
        "\n",
        "For the time being, there is no noise in data, i.e. rank from a particular subspace directly indicate the dimension of that subspace.  \n"
      ],
      "metadata": {
        "id": "wPqv-Y_K6Zrw"
      }
    },
    {
      "cell_type": "markdown",
      "source": [
        "### Generation of subspaces with desired guaranteed minimal or maximal angles\n",
        "\n",
        "Replace the content of this cell where you briefly but sufficiently explain how you make sure that your code works using mathematical terms as much as possible.  \n",
        "\n",
        "Note that you can write math type expression between $ $.  Recall numpy tutorial on ODTU Class.  \n",
        "\n",
        "Anyway here are some examples just in case:  \n",
        "$e = Mc^2$   \n",
        "\n",
        "$\\int sin(t) dt = -cos(t)$   \n",
        "\n",
        "$\\begin{bmatrix} 1 & 3 \\\\ 2 & 4 \\end{bmatrix} \\mathbf{x} = \\begin{bmatrix} 4 \\\\ 6 \\end{bmatrix}$\n",
        "\n",
        "$\\tilde{x} = 0.999 x$"
      ],
      "metadata": {
        "id": "2snCm3LUANqs"
      }
    },
    {
      "cell_type": "code",
      "source": [
        "import numpy as np\n",
        "def GenerateSubspacesMin(D = 5, dS1 = 2, dS2 = 2, nS1 = 50, nS2 = 50, minimalAngle = 0 ):\n",
        "    '''\n",
        "    This function generates 2 data matrices in subspaces S1 and S2 recpectively that live in D dimensional ambient space\n",
        "    dSi is the dimension of subspace Si\n",
        "    nSi is the number of data points to be generated in subspace Si\n",
        "    minimalAngle is the minimal angle between subspaces, recall the definition in lecture notes\n",
        "    Function returns two numpy arrays: M1, M2\n",
        "    where:\n",
        "        dimension of matrix Mi is (D, nSi)\n",
        "        rank(Mi) = dSi\n",
        "\n",
        "    if passed data does not make sense, return two empty numpy arrays\n",
        "    '''\n",
        "    # Check if the input parameters make sense\n",
        "    if not (0 < dS1 <= D and 0 < dS2 <= D and dS1 + dS2 <= D):\n",
        "        return np.array([]), np.array([])\n",
        "\n",
        "    # Generate orthonormal bases for subspaces S1 and S2\n",
        "    U1 = np.linalg.qr(np.random.randn(D, dS1))[0]\n",
        "    U2 = np.linalg.qr(np.random.randn(D, dS2))[0]\n",
        "\n",
        "    # Compute principal angles between subspaces\n",
        "    S = np.linalg.svd(U1.T @ U2, compute_uv=False)\n",
        "    min_angle = np.degrees(np.arccos(np.clip(S.min(), -1.0, 1.0)))\n",
        "\n",
        "    # Check if the minimal angle condition is satisfied\n",
        "    if min_angle < minimalAngle:\n",
        "        return np.array([]), np.array([])\n",
        "\n",
        "    # Generate data points within the subspaces\n",
        "    M1 = U1 @ np.random.randn(dS1, nS1)\n",
        "    M2 = U2 @ np.random.randn(dS2, nS2)\n",
        "    return M1, M2"
      ],
      "metadata": {
        "id": "CuVaBCEl6YJD",
        "outputId": "0c6c97bb-9628-4294-f8dc-6cd6ebfbcf3f",
        "colab": {
          "base_uri": "https://localhost:8080/"
        }
      },
      "execution_count": 5,
      "outputs": [
        {
          "output_type": "stream",
          "name": "stdout",
          "text": [
            "M1 shape: (30, 50)\n",
            "M2 shape: (30, 50)\n"
          ]
        }
      ]
    },
    {
      "cell_type": "markdown",
      "source": [
        "Given D as the dimension of the ambient space, the function generates orthonormal bases for subspaces S1 and S2 using QR decomposition:\n",
        "\n",
        "U1=qr(X(D×dS1))[0],U2=qr(Y(D×dS2))[0]\n",
        "\n",
        "where XX and YY are random matrices of dimensions (D,dS1) and (D,dS2) respectively.\n",
        "\n",
        "The principal angles θ between two subspaces are computed using the singular value decomposition (SVD) of U1TU2:\n",
        "\n",
        "S=svd(U1TU2,compute_uv=False)\n",
        "\n",
        "The smallest angle θmin can be obtained as:\n",
        "\n",
        "θmin = cos-1(min(S))\n",
        "\n",
        "The function ensures that the computed θmin satisfies:\n",
        "\n",
        "θmin ≥ minimalAngle\n",
        "\n",
        "If this condition is not met, the function returns empty arrays.Data points M1 and M2 are generated within subspaces S1 and S2 as:\n",
        "\n",
        "M1 = U1A(dS1×nS1),M2 = U2B(dS2×nS2)\n",
        "\n",
        "where A and B are random matrices used to project data points into the subspaces."
      ],
      "metadata": {
        "id": "U1gHiQSgzIV5"
      }
    },
    {
      "cell_type": "markdown",
      "source": [
        "### Finding minimal and maximal angles between subspaces  \n",
        "Similar to the case above, replace the content of this cell to explain briefly but sufficiently how you make sure that your code works using mathematical terms as much as possible.  \n"
      ],
      "metadata": {
        "id": "OJ-KlPmHD_0K"
      }
    },
    {
      "cell_type": "code",
      "source": [
        "\n",
        "def FindMinimalAngles(M1, M2):\n",
        "    '''\n",
        "    This function calculates and returns the minimal angle between subspaces S1, and S2\n",
        "    that contain the data points M1 and M2 respcetively.\n",
        "    Check out the lecture notes for the definition of minimal angle\n",
        "    Note that, subspaces are not be passed, indeed, 2 data matrices are given to this function\n",
        "    If you have properly have written the previous function, you will be able to\n",
        "    use it to test this function.\n",
        "    if passed data does not make sense, return -1000\n",
        "    '''\n",
        "    # Validate the input matrices\n",
        "    if M1.size == 0 or M2.size == 0 or M1.shape[0] != M2.shape[0]:\n",
        "        return -1000\n",
        "\n",
        "    # Perform Singular Value Decomposition (SVD) on the column spaces of M1 and M2\n",
        "    U1, _, _ = np.linalg.svd(M1, full_matrices=False)\n",
        "    U2, _, _ = np.linalg.svd(M2, full_matrices=False)\n",
        "\n",
        "    # Compute the singular values of U1.T @ U2\n",
        "    S = np.linalg.svd(U1.T @ U2, compute_uv=False)\n",
        "\n",
        "    # Find the minimal angle in degrees\n",
        "    minimalAngle = np.degrees(np.arccos(np.clip(S.min(), -1.0, 1.0)))\n",
        "    return minimalAngle\n"
      ],
      "metadata": {
        "id": "Fd4PHzDtE5sh"
      },
      "execution_count": null,
      "outputs": []
    },
    {
      "cell_type": "markdown",
      "source": [
        "The function first computes orthonormal bases for the column spaces of M1 and M2 using Singular Value Decomposition (SVD):\n",
        "\n",
        "U1,Σ1,V1T = SVD(M1, full_matrices=False)\n",
        "\n",
        "U2,Σ2,V2T = SVD(M2, full_matrices=False)\n",
        "\n",
        "U2,Σ2,V2T = SVD(M2, full_matrices=False)\n",
        "\n",
        "Here, U1 and U2 are orthonormal matrices representing the bases for subspaces S1 and S2, respectively.\n",
        "\n",
        "The singular values of the product U1TU2 give the cosines of the principal angles between the subspaces:\n",
        "\n",
        "S=SVD(U1TU2, compute_uv=False)\n",
        "\n",
        "where S is a vector of singular values.\n",
        "\n",
        "The minimal angle θmin between the subspaces is calculated by taking the arccosine of the smallest singular value in S:\n",
        "\n",
        "θmin =cos-1(min(S))\n",
        "\n",
        "To ensure numerical stability, the singular values are clipped within the range [−1,1]:\n",
        "\n",
        "θmin=cos-1(clip(min(S),-1.0,1.0))\n",
        "\n",
        "The function assumes that M1 and M2 are full-rank matrices representing the data points in the subspaces.\n",
        "\n",
        "Principal angles measure the smallest angle between the subspace vectors, providing insight into how \"aligned\" or \"orthogonal\" two subspaces are."
      ],
      "metadata": {
        "id": "ha8yHjaw1pY5"
      }
    },
    {
      "cell_type": "code",
      "source": [],
      "metadata": {
        "id": "pDkcDoykKZnt"
      },
      "execution_count": null,
      "outputs": []
    }
  ]
}