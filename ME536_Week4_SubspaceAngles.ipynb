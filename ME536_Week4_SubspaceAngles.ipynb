{
  "nbformat": 4,
  "nbformat_minor": 0,
  "metadata": {
    "colab": {
      "provenance": [],
      "include_colab_link": true
    },
    "kernelspec": {
      "name": "python3",
      "display_name": "Python 3"
    },
    "language_info": {
      "name": "python"
    }
  },
  "cells": [
    {
      "cell_type": "markdown",
      "metadata": {
        "id": "view-in-github",
        "colab_type": "text"
      },
      "source": [
        "<a href=\"https://colab.research.google.com/github/meliksahb/Design-of-Intelligent-Machines-ME536-/blob/main/ME536_Week4_SubspaceAngles.ipynb\" target=\"_parent\"><img src=\"https://colab.research.google.com/assets/colab-badge.svg\" alt=\"Open In Colab\"/></a>"
      ]
    },
    {
      "cell_type": "markdown",
      "source": [
        "\n",
        "Please __read the document carefuly__ and submit your code accordingly.  \n",
        "\n",
        "Once you fill in the functions as explained below, disconnect runtime, reconnect and run all (i.e. ```Runtime -> Run all```) in order to double check that it still works. Delete any test code you have so that I do just see the functions below, I will write my own test code, clear all outuput (i.e. ```Edit -> Clear all outputs```), finally save this file as \"**W4_studentID.ipynb**\" and submit via [ODTU class](https://odtuclass2024f.metu.edu.tr/mod/assign/view.php?id=68205).  \n",
        "\n",
        "Use of AI tools (such as the built-in Gemini in colab, or anyother you like) is allowed. However, if you use an AI tool, add the prompt(s) you used as a comment to the beginning of each code cell.  \n",
        "Along with the comment, explain if the first prompt worked, if not explain how you fixed it, add all versions of your prompts in to your comments.\n",
        "\n",
        "\n",
        "Allowed imports:  \n",
        "- ```numpy```.  \n",
        "\n",
        "Any submission:  \n",
        "- with test code,  \n",
        "- that crashes,  \n",
        "- any other import than mentioned above\n",
        "- not properly named\n",
        "\n",
        "will not be graded.\n"
      ],
      "metadata": {
        "id": "a-kSunCl52KE"
      }
    },
    {
      "cell_type": "markdown",
      "source": [
        "## Full name: Melikşah Beşir"
      ],
      "metadata": {
        "id": "rQU-zxlM6InS"
      }
    },
    {
      "cell_type": "markdown",
      "source": [
        "## Student ID: e2738425"
      ],
      "metadata": {
        "id": "E51QAfTq6MaL"
      }
    },
    {
      "cell_type": "markdown",
      "source": [
        "## Definition:\n",
        "You are to complete following functions. Details are explained in the docstring of each funciton.  \n",
        "\n",
        "In the text cell before each function, in brief but sufficient detail, explain how the function calculates the desired outputs.\n",
        "\n",
        "Note that these functions complement each other, you can test one with the other if they are properly written.  \n",
        "\n",
        "Also note that, there is no limit for the dimension of ambient space.  \n",
        "\n",
        "For the time being, there is no noise in data, i.e. rank from a particular subspace directly indicate the dimension of that subspace.  \n"
      ],
      "metadata": {
        "id": "wPqv-Y_K6Zrw"
      }
    },
    {
      "cell_type": "markdown",
      "source": [
        "### Generation of subspaces with desired guaranteed minimal or maximal angles\n",
        "\n",
        "Replace the content of this cell where you briefly but sufficiently explain how you make sure that your code works using mathematical terms as much as possible.  \n",
        "\n",
        "Note that you can write math type expression between $ $.  Recall numpy tutorial on ODTU Class.  \n",
        "\n",
        "Anyway here are some examples just in case:  \n",
        "$e = Mc^2$   \n",
        "\n",
        "$\\int sin(t) dt = -cos(t)$   \n",
        "\n",
        "$\\begin{bmatrix} 1 & 3 \\\\ 2 & 4 \\end{bmatrix} \\mathbf{x} = \\begin{bmatrix} 4 \\\\ 6 \\end{bmatrix}$\n",
        "\n",
        "$\\tilde{x} = 0.999 x$"
      ],
      "metadata": {
        "id": "2snCm3LUANqs"
      }
    },
    {
      "cell_type": "code",
      "source": [
        "import numpy as np\n",
        "def GenerateSubspacesMin(D = 5, dS1 = 2, dS2 = 2, nS1 = 50, nS2 = 50, minimalAngle = 0 ):\n",
        "    '''\n",
        "    This function generates 2 data matrices in subspaces S1 and S2 recpectively that live in D dimensional ambient space\n",
        "    dSi is the dimension of subspace Si\n",
        "    nSi is the number of data points to be generated in subspace Si\n",
        "    minimalAngle is the minimal angle between subspaces, recall the definition in lecture notes\n",
        "    Function returns two numpy arrays: M1, M2\n",
        "    where:\n",
        "        dimension of matrix Mi is (D, nSi)\n",
        "        rank(Mi) = dSi\n",
        "\n",
        "    if passed data does not make sense, return two empty numpy arrays\n",
        "    '''\n",
        "    # I copy-paste docstring and write \"can you explain step by step what I should do for this task\"\n",
        "    # to chatgpt. Then I tried to write code with the help of documentation and stack overflow.\n",
        "    # I also used ChatGPT for generating explainings of my code. I wrote ChatGPT\n",
        "    # \"Can you prepare me README file with mathematical expression for this code [copy paste code]\"\n",
        "    # Validate inputs\n",
        "    if dS1 > D or dS2 > D or minimalAngle < 0 or minimalAngle > 90:\n",
        "        return np.array([]), np.array([])\n",
        "\n",
        "    # Generate random matrices for each subspace\n",
        "    random_matrix_1 = np.random.randn(D, dS1)\n",
        "    random_matrix_2 = np.random.randn(D, dS2)\n",
        "\n",
        "    # Use QR decomposition to ensure the matrices are orthogonal\n",
        "    # I find it in stack overflow https://stackoverflow.com/questions/74401008/qr-decomposition\n",
        "    # Also, https://numpy.org/doc/2.1/reference/routines.linalg.html\n",
        "    Q1, _ = np.linalg.qr(random_matrix_1)\n",
        "    Q2, _ = np.linalg.qr(random_matrix_2)\n",
        "\n",
        "    # Generate data points in subspace S1 and S2\n",
        "    M1 = Q1[:, :dS1] @ np.random.randn(dS1, nS1)\n",
        "    M2 = Q2[:, :dS2] @ np.random.randn(dS2, nS2)\n",
        "\n",
        "    # Apply rotation if minimalAngle > 0 to ensure the angle between the subspaces\n",
        "    if minimalAngle > 0:\n",
        "        # Calculate the rotation angle in radians\n",
        "        angle_rad = np.deg2rad(minimalAngle)\n",
        "        rotation_matrix = np.eye(D)\n",
        "\n",
        "        # Apply rotation only in a D=2 subspace to maintain minimal angle\n",
        "        rotation_matrix[:2, :2] = np.array([[np.cos(angle_rad), -np.sin(angle_rad)],\n",
        "                                            [np.sin(angle_rad), np.cos(angle_rad)]])\n",
        "        # Rotate Q2 by this angle\n",
        "        Q2_rotated = rotation_matrix @ Q2\n",
        "        M2 = Q2_rotated[:, :dS2] @ np.random.randn(dS2, nS2)\n",
        "    return M1, M2"
      ],
      "metadata": {
        "id": "CuVaBCEl6YJD"
      },
      "execution_count": null,
      "outputs": []
    },
    {
      "cell_type": "markdown",
      "source": [
        "This function generates two data matrices, M1 and M2, each representing data points in subspaces S1 and S2 of a D-dimensional ambient space. The generated subspaces have a user-specified minimal angle between them.\n",
        "\n",
        "Random matrices R1 and R2 are generated of sizes (D,dS1) and (D,dS2) to provide an initial basis for the subspaces.\n",
        "\n",
        "QR decomposition is applied to each random matrix:\n",
        "\n",
        "R1=Q1⋅R1reduced,\n",
        "\n",
        "R2=Q2⋅R2reduced\n",
        "\n",
        "where Q1 and Q2 are orthonormal matrices with columns that form bases for subspaces S1 and S2.\n",
        "\n",
        "If a minimal angle is specified, a rotation matrix is created and applied to ensure that the angle between the first basis vectors in Q1 and Q2 matches the desired minimal angle.\n"
      ],
      "metadata": {
        "id": "tCTyoiD-1pFp"
      }
    },
    {
      "cell_type": "markdown",
      "source": [
        "### Finding minimal and maximal angles between subspaces  \n",
        "Similar to the case above, replace the content of this cell to explain briefly but sufficiently how you make sure that your code works using mathematical terms as much as possible.  \n"
      ],
      "metadata": {
        "id": "OJ-KlPmHD_0K"
      }
    },
    {
      "cell_type": "code",
      "source": [
        "\n",
        "def FindMinimalAngles(M1, M2):\n",
        "    '''\n",
        "    This function calculates and returns the minimal angle between subspaces S1, and S2\n",
        "    that contain the data points M1 and M2 respcetively.\n",
        "    Check out the lecture notes for the definition of minimal angle\n",
        "    Note that, subspaces are not be passed, indeed, 2 data matrices are given to this function\n",
        "    If you have properly have written the previous function, you will be able to\n",
        "    use it to test this function.\n",
        "    if passed data does not make sense, return -1000\n",
        "    '''\n",
        "    # I copy-paste docstring and write \"can you explain step by step what I should do for this task\"\n",
        "    # to chatgpt. Then I tried to write code with the help of documentation and stack overflow\n",
        "    # Validate inputs\n",
        "    if M1.shape[0] != M2.shape[0] or M1.size == 0 or M2.size == 0:\n",
        "        return -1000\n",
        "\n",
        "    # Perform QR decomposition on M1 and M2 to obtain orthonormal bases\n",
        "    # I find it in stack overflow https://stackoverflow.com/questions/74401008/qr-decomposition\n",
        "    Q1, _ = np.linalg.qr(M1)\n",
        "    Q2, _ = np.linalg.qr(M2)\n",
        "\n",
        "    # Initialize minimum angle to a large value\n",
        "    minimal_angle = 90\n",
        "\n",
        "    # Calculate angles between each pair of basis vectors in Q1 and Q2\n",
        "    for v1 in Q1.T:  # Each column in Q1\n",
        "        for v2 in Q2.T:  # Each column in Q2\n",
        "            # Calculate the cosine of the angle between v1 and v2\n",
        "            cos_theta = np.clip(np.dot(v1, v2) / (np.linalg.norm(v1) * np.linalg.norm(v2)), -1, 1)\n",
        "            # Calculate the angle in degrees\n",
        "            theta = np.degrees(np.arccos(cos_theta))\n",
        "            # Update minimal angle if a smaller angle is found\n",
        "            minimal_angle = min(minimal_angle, theta)\n",
        "    return minimalAngle\n"
      ],
      "metadata": {
        "id": "Fd4PHzDtE5sh"
      },
      "execution_count": null,
      "outputs": []
    },
    {
      "cell_type": "markdown",
      "source": [
        "This function calculates the minimal angle between the subspaces spanned by the data points in matrices M1 and M2. The function uses QR decomposition to obtain orthonormal bases and iteratively calculates the smallest angle between the bases without using SVD.\n",
        "\n",
        "QR decomposition is used to obtain orthonormal basis matrices Q1 and Q2 for the column spaces of M1 and M2:\n",
        "\n",
        "M1=Q1⋅M1reduced\n",
        "\n",
        "M2=Q2⋅M2reduced\n",
        "\n",
        "The angle θ between any two basis vectors v1 from Q1 and v2 from Q2 is calculated using the cosine of the angle:\n",
        "\n",
        "cos(θ)=(v1⋅v2)/(∥v1∥⋅∥v2∥)\n",
        "\n",
        "This cosine value is converted to an angle in degrees. The function returns the smallest angle found between any pair of basis vectors from Q1 and Q2.\n"
      ],
      "metadata": {
        "id": "PgRZBGoN06b6"
      }
    },
    {
      "cell_type": "code",
      "source": [],
      "metadata": {
        "id": "pDkcDoykKZnt"
      },
      "execution_count": null,
      "outputs": []
    }
  ]
}